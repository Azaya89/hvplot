{
 "cells": [
  {
   "cell_type": "code",
   "execution_count": null,
   "id": "1289b546-07a6-49f9-a21f-b2bd891b10b1",
   "metadata": {},
   "outputs": [],
   "source": [
    "import hvplot.pandas  # noqa"
   ]
  },
  {
   "cell_type": "markdown",
   "id": "7c867b2b-d891-483d-8b80-12103ad72b91",
   "metadata": {},
   "source": [
    "Parallel coordinates are a common way of visualizing and analyzing high-dimensional datasets.\n",
    "\n",
    "To show a set of points in an n-dimensional space, a backdrop is drawn consisting of n parallel lines, typically vertical and equally spaced. A point in n-dimensional space is represented as a polyline with vertices on the parallel axes; the position of the vertex on the i-th axis corresponds to the i-th coordinate of the point. "
   ]
  },
  {
   "cell_type": "code",
   "execution_count": null,
   "id": "538eafff-24af-41ef-941d-c81499c88a39",
   "metadata": {},
   "outputs": [],
   "source": [
    "from bokeh.sampledata import iris\n",
    "\n",
    "iris = iris.flowers"
   ]
  },
  {
   "cell_type": "code",
   "execution_count": null,
   "id": "7e25f890-5e01-4358-b4a9-f0183647dd58",
   "metadata": {},
   "outputs": [],
   "source": [
    "iris.head()"
   ]
  },
  {
   "cell_type": "code",
   "execution_count": null,
   "id": "eb4a6aec-36e0-43f6-b776-8cad6d926428",
   "metadata": {},
   "outputs": [],
   "source": [
    "hvplot.plotting.parallel_coordinates(\n",
    "    iris,\n",
    "    class_column='species',\n",
    "    cols=['sepal_length', 'petal_length', 'petal_width']\n",
    ")"
   ]
  }
 ],
 "metadata": {
  "language_info": {
   "name": "python",
   "pygments_lexer": "ipython3"
  }
 },
 "nbformat": 4,
 "nbformat_minor": 5
}
