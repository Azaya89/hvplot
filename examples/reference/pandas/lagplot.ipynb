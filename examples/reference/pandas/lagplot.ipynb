{
 "cells": [
  {
   "cell_type": "code",
   "execution_count": null,
   "id": "0a497b8d-a35b-48b1-9e1a-e2acc907ff14",
   "metadata": {},
   "outputs": [],
   "source": [
    "import hvplot.pandas  # noqa\n",
    "import numpy as np\n",
    "import pandas as pd"
   ]
  },
  {
   "cell_type": "markdown",
   "id": "992bc493-914a-4dbb-80cd-6d7ed12a3076",
   "metadata": {},
   "source": [
    "Lag plots are most commonly used to look for patterns in time series data."
   ]
  },
  {
   "cell_type": "markdown",
   "id": "f6d461a5-9c12-4042-8971-ad528af9977d",
   "metadata": {},
   "source": [
    "Given the following time series:"
   ]
  },
  {
   "cell_type": "code",
   "execution_count": null,
   "id": "16743185-fa7f-4854-90fc-f284907ad809",
   "metadata": {},
   "outputs": [],
   "source": [
    "np.random.seed(5)\n",
    "x = np.cumsum(np.random.normal(loc=1, scale=5, size=50))\n",
    "s = pd.Series(x, name='Time series')\n",
    "\n",
    "s.hvplot()"
   ]
  },
  {
   "cell_type": "markdown",
   "id": "8ed87848-6a86-4025-bd7e-7900a69706c9",
   "metadata": {},
   "source": [
    "A lag plot with `lag=1` returns:"
   ]
  },
  {
   "cell_type": "code",
   "execution_count": null,
   "id": "d14609df-a88a-44fc-85b0-426e139d9b4b",
   "metadata": {},
   "outputs": [],
   "source": [
    "hvplot.plotting.lag_plot(s, lag=1)"
   ]
  }
 ],
 "metadata": {
  "language_info": {
   "name": "python",
   "pygments_lexer": "ipython3"
  }
 },
 "nbformat": 4,
 "nbformat_minor": 5
}
