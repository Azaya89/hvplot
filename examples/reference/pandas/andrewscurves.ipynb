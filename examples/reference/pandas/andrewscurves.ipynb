{
 "cells": [
  {
   "cell_type": "code",
   "execution_count": null,
   "id": "c3152ae5-a7e8-4a87-946c-0622095a1a1a",
   "metadata": {},
   "outputs": [],
   "source": [
    "import hvplot.pandas  # noqa"
   ]
  },
  {
   "cell_type": "markdown",
   "id": "3ff5961b-3576-4b7b-9b97-fcabc717aafa",
   "metadata": {},
   "source": [
    "Andrews curves provides a mechanism for visualising clusters of multivariate data.\n",
    "\n",
    "Andrews curves have the functional form:\n",
    "\n",
    "    f(t) = x_1/sqrt(2) + x_2 sin(t) + x_3 cos(t) + x_4 sin(2t) + x_5 cos(2t) + ...\n",
    "\n",
    "Where *x* coefficients correspond to the values of each dimension and *t* is\n",
    "linearly spaced between *-pi* and *+pi*. Each row of frame then corresponds to\n",
    "a single curve."
   ]
  },
  {
   "cell_type": "code",
   "execution_count": null,
   "id": "36e7d95b-2810-4efa-ae16-291f63be1e0a",
   "metadata": {},
   "outputs": [],
   "source": [
    "from bokeh.sampledata import iris\n",
    "\n",
    "iris = iris.flowers"
   ]
  },
  {
   "cell_type": "code",
   "execution_count": null,
   "id": "96e78c6a-92ee-4820-ae8a-13220e2f9870",
   "metadata": {},
   "outputs": [],
   "source": [
    "iris.head()"
   ]
  },
  {
   "cell_type": "code",
   "execution_count": null,
   "id": "27a21f83-4d3e-43a5-82e2-74f99cb7cfae",
   "metadata": {},
   "outputs": [],
   "source": [
    "hvplot.plotting.andrews_curves(\n",
    "    iris,\n",
    "    class_column='species',\n",
    "    samples=20,\n",
    ")"
   ]
  }
 ],
 "metadata": {
  "language_info": {
   "name": "python",
   "pygments_lexer": "ipython3"
  }
 },
 "nbformat": 4,
 "nbformat_minor": 5
}
