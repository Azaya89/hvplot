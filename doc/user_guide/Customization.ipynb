{
 "cells": [
  {
   "cell_type": "markdown",
   "metadata": {},
   "source": [
    "# Customization"
   ]
  },
  {
   "cell_type": "code",
   "execution_count": null,
   "metadata": {},
   "outputs": [],
   "source": [
    "import hvplot\n",
    "import hvplot.pandas  # noqa"
   ]
  },
  {
   "cell_type": "markdown",
   "metadata": {},
   "source": [
    "The hvPlot API is closely modeled on the pandas plot API but also diverges in certain cases, either to improve consistency or to provide additional functionality. This section will outline the valid options to control the axes of a plot, to control datashading and to modify the style of a plot. To look these options up interactively you may either use the tab-completion machinery in IPython or the Jupyter notebook, e.g.:\n",
    "\n",
    "```python\n",
    "df.hvplot.line(<TAB>\n",
    "```\n",
    "\n",
    "OR use the help method:\n",
    "\n",
    "```\n",
    "hvplot.help('line')\n",
    "```"
   ]
  },
  {
   "cell_type": "markdown",
   "metadata": {},
   "source": [
    "## Data Options\n",
    "\n",
    "The set of options for organizing, grouping, and transforming the dataset before visualization, which includes:\n",
    "\n",
    "    attr_labels (default=None): bool\n",
    "        Whether to use an xarray object's attributes as labels, defaults to\n",
    "        None to allow best effort without throwing a warning. Set to True\n",
    "        to see warning if the attrs can't be found, set to False to disable\n",
    "        the behavior.\n",
    "    by (default=None): str or list of str\n",
    "        Dimension(s) by which to group the data categories.\n",
    "        An NdOverlay is returned by default unless `subplots=True`, then an NdLayout is returned.\n",
    "    dynamic (default=True):\n",
    "        Whether to return a dynamic plot which sends updates on widget and\n",
    "        zoom/pan events or whether all the data should be embedded\n",
    "        (warning: for large groupby operations embedded data can become\n",
    "        very large if dynamic=False)\n",
    "    fields (default={}): dict\n",
    "        A dictionary of fields for renaming or transforming data dimensions.\n",
    "    groupby (default=None): str or list\n",
    "        Dimension(s) by which to group data, enabling widgets.\n",
    "        Returns a DynamicMap if `dynamic=True`, else returns a HoloMap.\n",
    "        See :paramref:`dynamic` for more information.\n",
    "    group_label (default=None): str\n",
    "        Label for grouped data, typically in legends or axis labels.\n",
    "    kind (default='line'): str\n",
    "        The type of plot to generate.\n",
    "    label (default=None): str\n",
    "        Label for the data, typically used in the plot title or legends.\n",
    "    persist (default=False): boolean\n",
    "        Whether to persist the data in memory when using dask.\n",
    "    robust: bool\n",
    "        If True and clim are absent, the colormap range is computed\n",
    "        with 2nd and 98th percentiles instead of the extreme values\n",
    "        for image elements. For RGB elements, clips the \"RGB\", or\n",
    "        raw reflectance values between 2nd and 98th percentiles.\n",
    "        Follows the same logic as xarray's robust option.\n",
    "    row (default=None): str\n",
    "        Column name to use for splitting the plot into separate subplots by rows.\n",
    "    col (default=None): str\n",
    "        Column name to use for splitting the plot into separate subplots by columns.\n",
    "    sort_date (default=True): bool\n",
    "        Whether to sort the x-axis by date before plotting\n",
    "    subplots (default=False): boolean\n",
    "        Whether to display data in separate subplots when using the `by` parameter.\n",
    "    symmetric (default=None): bool\n",
    "        Whether the data are symmetric around zero. If left unset, the data\n",
    "        will be checked for symmetry as long as the size is less than\n",
    "        ``check_symmetric_max``.\n",
    "    check_symmetric_max (default=1000000):\n",
    "        Size above which to stop checking for symmetry by default on the data.\n",
    "    transforms (default={}): dict\n",
    "        A dictionary of HoloViews dim transforms to apply before plotting\n",
    "    use_dask (default=False): boolean\n",
    "        Whether to use dask for processing the data, helpful for large datasets that do not fit into memory.\n",
    "    use_index (default=True): boolean\n",
    "        Whether to use the data's index for the x-axis by default.\n",
    "        if `hover_cols == 'all', adds the index to the hover tools.\n",
    "    value_label (default='value'): str\n",
    "        Label for the data values, typically used for the y-axis or in legends."
   ]
  },
  {
   "cell_type": "markdown",
   "metadata": {},
   "source": [
    "## Resampling options\n",
    "\n",
    "In addition to regular plot options hvplot also exposes options for dealing with large data:\n",
    "\n",
    "    aggregator (default=None):\n",
    "        Aggregator to use when applying rasterize or datashade operation\n",
    "        (valid options include 'mean', 'count', 'min', 'max' and more, and\n",
    "        datashader reduction objects)\n",
    "    datashade (default=False):\n",
    "        Whether to apply rasterization and shading (colormapping) using\n",
    "        the Datashader library, returning an RGB object instead of\n",
    "        individual points\n",
    "    downsample (default=False):\n",
    "        Controls the application of downsampling to the plotted data,\n",
    "        which is particularly useful for large timeseries datasets to\n",
    "        reduce the amount of data sent to browser and improve\n",
    "        visualization performance. Requires HoloViews >= 1.16. Additional\n",
    "        dependencies: Installing the `tsdownsample` library is required\n",
    "        for using any downsampling methods other than the default 'lttb'.\n",
    "        Acceptable values:\n",
    "        - False: No downsampling is applied.\n",
    "        - True: Applies downsampling using HoloViews' default algorithm\n",
    "            (LTTB - Largest Triangle Three Buckets).\n",
    "        - 'lttb': Explicitly applies the Largest Triangle Three Buckets\n",
    "          algorithm.\n",
    "        - 'minmax': Applies the MinMax algorithm, selecting the minimum\n",
    "          and maximum values in each bin. Requires `tsdownsample`.\n",
    "        - 'm4': Applies the M4 algorithm, selecting the minimum, maximum,\n",
    "          first, and last values in each bin. Requires `tsdownsample`.\n",
    "        - 'minmax-lttb': Combines MinMax and LTTB algorithms for\n",
    "          downsampling, first applying MinMax to reduce to a preliminary\n",
    "          set of points, then LTTB for further reduction. Requires\n",
    "          `tsdownsample`.\n",
    "        Other string values corresponding to supported algorithms in\n",
    "        HoloViews may also be used.\n",
    "    dynspread (default=False):\n",
    "        For plots generated with datashade=True or rasterize=True,\n",
    "        automatically increase the point size when the data is sparse\n",
    "        so that individual points become more visible\n",
    "    max_px (default=3): int\n",
    "        The maximum size in pixels for dynamically spreading elements in sparse data using `dynspread`.\n",
    "        This helps to increase the visibility of sparse data points.\n",
    "    pixel_ratio (default=None):\n",
    "       Pixel ratio applied to the height and width, used when rasterizing or\n",
    "       datashading. When not set explicitly, the ratio is automatically\n",
    "       obtained from the browser device pixel ratio. Default is 1 when\n",
    "       the browser information is not available. Useful when the browser\n",
    "       information is not available (pixel_ratio=2 can give better results on\n",
    "       Retina displays) or for using lower resolution for speed.\n",
    "    precompute (default=False): boolean\n",
    "        Whether to precompute aggregations when using `rasterize` or `datashade`.\n",
    "    rasterize (default=False):\n",
    "        Whether to apply rasterization using the Datashader library,\n",
    "        returning an aggregated Image (to be colormapped by the\n",
    "        plotting backend) instead of individual points\n",
    "    resample_when (default=None):\n",
    "        Applies a resampling operation (datashade, rasterize or downsample) if\n",
    "        the number of individual data points present in the current zoom range\n",
    "        is above this threshold. The raw plot is displayed otherwise.\n",
    "    threshold (default=0.5): float\n",
    "        When using `dynspread`, this value defines the minimum density of overlapping points\n",
    "        required before the spreading operation is applied.\n",
    "        Values between 0 and 1, where 1 means always spread and 0 means never spread.\n",
    "    x_sampling/y_sampling (default=None):\n",
    "        Specifies the smallest allowed sampling interval along the x/y axis.\n",
    "        Used when rasterizing or datashading."
   ]
  },
  {
   "cell_type": "markdown",
   "metadata": {},
   "source": [
    "## Geographic options\n",
    "\n",
    "When dealing with geographic data, there are a number of options that become available. See the [geographic section](Geographic_Data.ipynb) for more information on working with geographic data:\n",
    "\n",
    "    coastline (default=False):\n",
    "        Whether to display a coastline on top of the plot, setting\n",
    "        coastline='10m'/'50m'/'110m' specifies a specific scale.\n",
    "    crs (default=None):\n",
    "        Coordinate reference system of the data (input projection) specified as a string or integer EPSG code, a CRS or Proj pyproj object, a Cartopy CRS object or class name, a WKT string, or a proj.4 string. Defaults to PlateCarree.\n",
    "    features (default=None): dict or list\n",
    "        A list of features or a dictionary of features and the scale\n",
    "        at which to render it. Available features include 'borders',\n",
    "        'coastline', 'lakes', 'land', 'ocean', 'rivers' and 'states'.\n",
    "        Available scales include '10m'/'50m'/'110m'.\n",
    "    geo (default=False):\n",
    "        Whether the plot should be treated as geographic (and assume\n",
    "        PlateCarree, i.e. lat/lon coordinates).\n",
    "    global_extent (default=False):\n",
    "        Whether to expand the plot extent to span the whole globe.\n",
    "    project (default=False):\n",
    "        Whether to project the data before plotting (adds initial\n",
    "        overhead but avoids projecting data when plot is dynamically\n",
    "        updated).\n",
    "    projection (default=None):\n",
    "        Coordinate reference system of the plot (output projection) specified as a string or integer EPSG code, a CRS or Proj pyproj object, a Cartopy CRS object or class name, a WKT string, or a proj.4 string. Defaults to PlateCarree.\n",
    "    tiles (default=False):\n",
    "        Whether to overlay the plot on a tile source. If coordinate values fall within lat/lon bounds, auto-projects to EPSG:3857 unless `projection=False` or if the data is lazily loaded (dask / ibis). Tiles sources\n",
    "        can be selected by name or a tiles object or class can be passed,\n",
    "        the default is 'Wikipedia'.\n",
    "    tiles_opts (default=None): dict\n",
    "        Options to customize the tiles layer created when `tiles` is set,\n",
    "        e.g. `dict(alpha=0.5)`."
   ]
  },
  {
   "cell_type": "markdown",
   "metadata": {},
   "source": [
    "## Kind options\n",
    "\n",
    "Each type of plot may have a number of options to visual attributes specific to that plot type. In general these are provided in the docstring of the plot type, which can be viewed using ``help`` method:"
   ]
  },
  {
   "cell_type": "code",
   "execution_count": null,
   "metadata": {},
   "outputs": [],
   "source": [
    "hvplot.help('scatter', generic=False, style=False)"
   ]
  },
  {
   "cell_type": "markdown",
   "metadata": {},
   "source": [
    "## Styling options\n",
    "\n",
    "Beyond the options specific to each plot type (or ``kind``) it is also possible to customize each component in detail, exposing all the options bokeh exposes. These usually include options to color the line and fill color, alpha and style. To see the full listing we can once again use the ``help`` method:"
   ]
  },
  {
   "cell_type": "code",
   "execution_count": null,
   "metadata": {},
   "outputs": [],
   "source": [
    "hvplot.help('line', docstring=False, generic=False)"
   ]
  },
  {
   "cell_type": "markdown",
   "metadata": {},
   "source": [
    "In general, the objects returned by hvPlot are regular HoloViews objects, which can be overlaid, laid out, composed and customized like all other HoloViews objects.  The [HoloViews](https://holoviews.org) website explains all the functionality available, but what's on this hvPlot website should be enough to get you up and running for typical usage.  "
   ]
  }
 ],
 "metadata": {
  "language_info": {
   "name": "python",
   "pygments_lexer": "ipython3"
  }
 },
 "nbformat": 4,
 "nbformat_minor": 4
}
