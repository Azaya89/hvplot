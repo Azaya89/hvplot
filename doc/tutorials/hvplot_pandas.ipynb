{
 "cells": [
  {
   "cell_type": "markdown",
   "id": "c6cb6fd3-0e03-4a7e-82dd-b0104c6400ee",
   "metadata": {},
   "source": [
    "# Using hvPlot as a pandas user"
   ]
  },
  {
   "cell_type": "markdown",
   "id": "bba9bde5-8530-4431-917a-0db9bfb6a0de",
   "metadata": {},
   "source": [
    "hvPlot transforms your standard Pandas plots into dynamic, interactive visualizations with just a simple change in syntax.\n",
    "\n",
    "By building on the familiar `.plot()` API, hvPlot empowers you to explore large and multi-dimensional datasets effortlessly, harnessing the power of Bokeh/Matplotlib behind the scenes. Whether you’re tracking time series data or exploring complex relationships, hvPlot makes your visualizations come alive with features like zooming, panning, and real-time updates."
   ]
  },
  {
   "cell_type": "markdown",
   "id": "fdb916ee-8cc6-4289-aab2-c383582d6faf",
   "metadata": {},
   "source": [
    "## Installation\n",
    "\n",
    "Getting started with hvPlot is as simple as running a single command. You can install hvPlot via either `pip` or `conda`, making it easy to integrate into your existing Python environment. Choose the method that works best for you:\n",
    "\n",
    "::::{tab-set}\n",
    "    \n",
    ":::{tab-item} pip\n",
    "```bash\n",
    "pip install hvplot\n",
    "```\n",
    ":::\n",
    "\n",
    ":::{tab-item} conda\n",
    "```bash\n",
    "conda install conda-forge::hvplot\n",
    "```\n",
    ":::\n",
    "\n",
    ":::{tab-item} uv\n",
    "uv pip install hvplot\n",
    ":::\n",
    "\n",
    "::::"
   ]
  },
  {
   "cell_type": "markdown",
   "id": "0cb7bc6b-95f0-4fb0-8fe6-2934fb75478b",
   "metadata": {},
   "source": [
    "## Registering the pandas backend\n",
    "\n",
    "Before you start plotting, you need to enable hvPlot as the backend for Pandas. This simple setup not only activates interactive features but also gives you access to an extended suite of visualization tools. You have two options:\n",
    "\n",
    "- Set the backend globally with: `pd.options.plotting.backend = 'hvplot'`\n",
    "\n",
    "- Or, import the hvPlot extension directly: `import hvplot.pandas`\n",
    "\n",
    "In this tutorial, we’ll use `hvplot.pandas` since it seamlessly exposes all hvPlot functionalities and integrates well with other libraries like `hvplot.xarray`."
   ]
  },
  {
   "cell_type": "code",
   "execution_count": null,
   "id": "0b600cc2-360d-490b-9729-edeb4978dfe1",
   "metadata": {},
   "outputs": [],
   "source": [
    "import numpy as np\n",
    "import pandas as pd\n",
    "import hvplot.pandas # noqa"
   ]
  },
  {
   "cell_type": "markdown",
   "id": "8d0dd783-2db4-449e-87ce-6cf7ffd84465",
   "metadata": {},
   "source": [
    "## Plot comparisons"
   ]
  },
  {
   "cell_type": "markdown",
   "id": "8963ebbb-082d-498b-a8bf-5f4866b93a38",
   "metadata": {},
   "source": [
    "With hvPlot now activated, transitioning from Pandas’ `.plot()` to hvPlot’s interactive `.hvplot` is as simple as changing one method call. To clearly illustrate the benefits, we’ll display both Pandas and hvPlot plots side by side. This comparison will help you see firsthand how a small change in your code can unlock a world of interactivity."
   ]
  },
  {
   "cell_type": "code",
   "execution_count": null,
   "id": "c2660095-483d-406c-abc9-2f3546bdf137",
   "metadata": {},
   "outputs": [],
   "source": [
    "import matplotlib.pyplot as plt\n",
    "import panel as pn\n",
    "\n",
    "pn.extension()\n",
    "\n",
    "def compare_plots(pd_hvplot, pd_plot):\n",
    "    # Pandas.hvplot\n",
    "    pn_hv = pn.pane.HoloViews(pd_hvplot)\n",
    "\n",
    "    # Pandas.plot\n",
    "    fig = pd_plot.figure\n",
    "    pn_mpl = pn.pane.Matplotlib(fig, dpi=80)\n",
    "    plt.close(fig)\n",
    "\n",
    "    return pn.Tabs(\n",
    "        ('hvPlot', pn_hv),\n",
    "        ('pandas', pn_mpl),\n",
    "    )"
   ]
  },
  {
   "cell_type": "code",
   "execution_count": null,
   "id": "57d44aae-8157-4d5e-98f6-d5d7b502be9f",
   "metadata": {
    "tags": [
     "remove-cell"
    ]
   },
   "outputs": [],
   "source": [
    "# Hidden on the website\n",
    "np.random.seed(123456)"
   ]
  },
  {
   "cell_type": "code",
   "execution_count": null,
   "id": "6ac700e4-bbc1-4a39-bf85-89820b15fb42",
   "metadata": {},
   "outputs": [],
   "source": [
    "ts = pd.Series(np.random.randn(1000), index=pd.date_range('1/1/2000', periods=1000))\n",
    "ts = ts.cumsum()\n",
    "ts.head(3)"
   ]
  },
  {
   "cell_type": "code",
   "execution_count": null,
   "id": "5e885432-e1a5-443b-8315-607fab081529",
   "metadata": {},
   "outputs": [],
   "source": [
    "compare_plots(\n",
    "    ts.hvplot(),\n",
    "    ts.plot(),\n",
    ")"
   ]
  },
  {
   "cell_type": "markdown",
   "id": "3618c093-bd36-4c36-b3f4-002898dc0bea",
   "metadata": {},
   "source": [
    "hvPlot brings interactivity to your visualizations right out of the box. Powered by Bokeh, your plots become more than just images—they let you zoom, pan, and explore data dynamically. This means you can dive deep into your analysis without writing extra code for interactive features."
   ]
  },
  {
   "cell_type": "code",
   "execution_count": null,
   "id": "eaf44ef7-baf4-48cb-b303-bbe66cd82ce0",
   "metadata": {},
   "outputs": [],
   "source": [
    "df = pd.DataFrame(np.random.randn(1000, 4), index=ts.index, columns=list(\"ABCD\"))\n",
    "\n",
    "df = df.cumsum()\n",
    "\n",
    "df.head(3)"
   ]
  },
  {
   "cell_type": "code",
   "execution_count": null,
   "id": "166d4a0d-7522-4abb-ba22-3b7635818632",
   "metadata": {},
   "outputs": [],
   "source": [
    "compare_plots(df.hvplot(), df.plot())"
   ]
  },
  {
   "cell_type": "markdown",
   "id": "123e49c4-2944-4d8a-a529-d4ac019e3baf",
   "metadata": {},
   "source": [
    "## Interactive exploration\n",
    "\n",
    "You’ve seen how effortlessly hvPlot turns your traditional Pandas plots into dynamic, interactive visualizations. Next, we’ll explore the widely known `penguins` dataset.\n",
    "\n",
    "This dataset offers an excellent opportunity to demonstrate how hvPlot can handle categorical and numerical data, create interactive comparisons, and reveal trends that might be hidden in static plots."
   ]
  },
  {
   "cell_type": "code",
   "execution_count": null,
   "id": "fd7f202b-6287-4ad4-8b7b-0a11d256247e",
   "metadata": {},
   "outputs": [],
   "source": [
    "import hvsampledata\n",
    "\n",
    "penguins = hvsampledata.penguins(\"pandas\")\n",
    "penguins.head(3)"
   ]
  },
  {
   "cell_type": "markdown",
   "id": "2415bfe5-5c09-421e-b1fd-b9ff5b5ea3dc",
   "metadata": {},
   "source": [
    "Creating a groupby plot in hvPlot is straightforward: simply use the `by` keyword to specify the column for grouping. hvPlot automatically assigns distinct colors to each group and activates hover tools so you can easily see details about each bird species as you move your mouse over the points."
   ]
  },
  {
   "cell_type": "code",
   "execution_count": null,
   "id": "3bf8140b-2321-4086-8f53-3e7a8ef71f23",
   "metadata": {},
   "outputs": [],
   "source": [
    "penguins.hvplot.scatter(x='bill_length_mm', y='bill_depth_mm', by='species')"
   ]
  },
  {
   "cell_type": "markdown",
   "id": "a150ae43-4c61-4ab3-8521-c274f3b028f8",
   "metadata": {},
   "source": [
    "You can also use the `groupby` keyword to build interactive widgets that explore different dimensions of your data.\n",
    "\n",
    "Here, we group the dataset by both ‘island’ and ‘sex’, and interactive widgets let you navigate through each combination. Click on the widgets to reveal how these factors influence the visualization of the data."
   ]
  },
  {
   "cell_type": "code",
   "execution_count": null,
   "id": "cbb535b7-310f-44d9-bf27-f8807f183921",
   "metadata": {},
   "outputs": [],
   "source": [
    "penguins.hvplot.scatter(x='bill_length_mm', y='bill_depth_mm', groupby=['island', 'sex'])"
   ]
  },
  {
   "cell_type": "markdown",
   "id": "078a5708-5399-4092-b24f-28777085ce59",
   "metadata": {},
   "source": [
    "## Next steps\n",
    "\n",
    "In this tutorial, you learned how a simple change from `.plot()` to `.hvplot()` can transform static visualizations into interactive experiences. We covered basic usage, backend registration, and side-by-side comparisons that highlight the benefits of interactivity. We also explored grouping data to reveal trends using both the `by` and `groupby` keywords.\n",
    "\n",
    "To dive deeper into hvPlot’s capabilities, check out the [HoloViz tutorial](https://holoviz.org/tutorial/index.html), which demonstrates how to build interactive dashboards using hvPlot and other tools from the HoloViz ecosystem.\n",
    "\n",
    "You might also explore the [Reference gallery](#) for additional examples and options."
   ]
  }
 ],
 "metadata": {
  "language_info": {
   "name": "python",
   "pygments_lexer": "ipython3"
  }
 },
 "nbformat": 4,
 "nbformat_minor": 5
}
